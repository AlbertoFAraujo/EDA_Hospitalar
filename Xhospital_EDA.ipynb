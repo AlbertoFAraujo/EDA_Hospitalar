{
    "metadata": {
        "kernelspec": {
            "name": "SQL",
            "display_name": "SQL",
            "language": "sql"
        },
        "language_info": {
            "name": "sql",
            "version": ""
        }
    },
    "nbformat_minor": 2,
    "nbformat": 4,
    "cells": [
        {
            "cell_type": "markdown",
            "source": [
                "# Exploração de dados Xhospital\n",
                "\n",
                "Trata-se de uma base de dados hospitalar....\n",
                "\n",
                "1.   Total de funcionários na empresa ao longo do tempo, ativos e inativos;\n",
                "2. Total de funcionários por genero;\n",
                "3. Frequência de funcionários por idade;\n",
                "4. Distribuição de funcionários por nível hierárquico;\n",
                "5.  Distribuição de funcionários por Escolaridade;\n",
                "6. Distribuição de funcionários por Área da empresa;\n",
                "7. Salário médio por nível hierárquico;\n",
                "8. Despesa total em salários?;\n",
                "9. Quanto é gasto em valor de benefício \"Combustível\"?;\n",
                "10. Qual a média salarial por escolaridade;\n",
                "11. Qual mês obteve o maior percentual de admissões em relação ao anterior?;\n",
                "12. Qual mês obteve o maior percentual de demissões em relação ao anterior?;\n",
                "13. Total de funcionários por tipo de contrato;\n",
                "14. Área vs tipo de contrato e percentual em relação ao total da área;\n",
                "15. Área vs tipo de contrato e percentual em relação ao total da área;\n",
                "16. Total de funcionários afastados ou de férias.\n",
                "\n",
                "<span style=\"color: var(--vscode-foreground);\">Embora o Azure Data Studio gere automaticamente gráficos nos outputs, a ideia desta exploração é apenas responder as questões mencionadas.</span>\n",
                "\n",
                "<span style=\"color: var(--vscode-foreground);\">&gt; Créditos: Xperium Treinamentos</span>"
            ],
            "metadata": {
                "language": "sql",
                "azdata_cell_guid": "2e0e0ac9-60cf-4d0d-9435-c302dd4114d4"
            },
            "attachments": {}
        },
        {
            "cell_type": "code",
            "source": [
                "SELECT * FROM tab_classe_procedimento"
            ],
            "metadata": {
                "azdata_cell_guid": "7899a291-2958-4b34-b172-fd6400251011",
                "language": "sql"
            },
            "outputs": [
                {
                    "output_type": "display_data",
                    "data": {
                        "text/html": "(29 rows affected)"
                    },
                    "metadata": {}
                },
                {
                    "output_type": "display_data",
                    "data": {
                        "text/html": "Total execution time: 00:00:00.018"
                    },
                    "metadata": {}
                },
                {
                    "output_type": "execute_result",
                    "metadata": {},
                    "execution_count": 4,
                    "data": {
                        "application/vnd.dataresource+json": {
                            "schema": {
                                "fields": [
                                    {
                                        "name": "cod_classe"
                                    },
                                    {
                                        "name": "classe"
                                    }
                                ]
                            },
                            "data": [
                                {
                                    "cod_classe": "1",
                                    "classe": "Classe 1"
                                },
                                {
                                    "cod_classe": "2",
                                    "classe": "Classe 2"
                                },
                                {
                                    "cod_classe": "3",
                                    "classe": "Classe 3"
                                },
                                {
                                    "cod_classe": "4",
                                    "classe": "Classe 4"
                                },
                                {
                                    "cod_classe": "5",
                                    "classe": "Classe 5"
                                },
                                {
                                    "cod_classe": "6",
                                    "classe": "Classe 6"
                                },
                                {
                                    "cod_classe": "7",
                                    "classe": "Classe 7"
                                },
                                {
                                    "cod_classe": "8",
                                    "classe": "Classe 8"
                                },
                                {
                                    "cod_classe": "9",
                                    "classe": "Classe 9"
                                },
                                {
                                    "cod_classe": "10",
                                    "classe": "Classe 10"
                                },
                                {
                                    "cod_classe": "11",
                                    "classe": "Classe 11"
                                },
                                {
                                    "cod_classe": "12",
                                    "classe": "Classe 12"
                                },
                                {
                                    "cod_classe": "13",
                                    "classe": "Classe 13"
                                },
                                {
                                    "cod_classe": "14",
                                    "classe": "Classe 14"
                                },
                                {
                                    "cod_classe": "15",
                                    "classe": "Classe 15"
                                },
                                {
                                    "cod_classe": "16",
                                    "classe": "Classe 16"
                                },
                                {
                                    "cod_classe": "17",
                                    "classe": "Classe 17"
                                },
                                {
                                    "cod_classe": "18",
                                    "classe": "Classe 18"
                                },
                                {
                                    "cod_classe": "19",
                                    "classe": "Classe 19"
                                },
                                {
                                    "cod_classe": "20",
                                    "classe": "Classe 20"
                                },
                                {
                                    "cod_classe": "21",
                                    "classe": "Classe 21"
                                },
                                {
                                    "cod_classe": "22",
                                    "classe": "Classe 22"
                                },
                                {
                                    "cod_classe": "23",
                                    "classe": "Classe 23"
                                },
                                {
                                    "cod_classe": "24",
                                    "classe": "Classe 24"
                                },
                                {
                                    "cod_classe": "25",
                                    "classe": "Classe 25"
                                },
                                {
                                    "cod_classe": "26",
                                    "classe": "Classe 26"
                                },
                                {
                                    "cod_classe": "27",
                                    "classe": "Classe 27"
                                },
                                {
                                    "cod_classe": "28",
                                    "classe": "Classe 28"
                                },
                                {
                                    "cod_classe": "29",
                                    "classe": "Classe 29"
                                }
                            ]
                        },
                        "text/html": [
                            "<table>",
                            "<tr><th>cod_classe</th><th>classe</th></tr>",
                            "<tr><td>1</td><td>Classe 1</td></tr>",
                            "<tr><td>2</td><td>Classe 2</td></tr>",
                            "<tr><td>3</td><td>Classe 3</td></tr>",
                            "<tr><td>4</td><td>Classe 4</td></tr>",
                            "<tr><td>5</td><td>Classe 5</td></tr>",
                            "<tr><td>6</td><td>Classe 6</td></tr>",
                            "<tr><td>7</td><td>Classe 7</td></tr>",
                            "<tr><td>8</td><td>Classe 8</td></tr>",
                            "<tr><td>9</td><td>Classe 9</td></tr>",
                            "<tr><td>10</td><td>Classe 10</td></tr>",
                            "<tr><td>11</td><td>Classe 11</td></tr>",
                            "<tr><td>12</td><td>Classe 12</td></tr>",
                            "<tr><td>13</td><td>Classe 13</td></tr>",
                            "<tr><td>14</td><td>Classe 14</td></tr>",
                            "<tr><td>15</td><td>Classe 15</td></tr>",
                            "<tr><td>16</td><td>Classe 16</td></tr>",
                            "<tr><td>17</td><td>Classe 17</td></tr>",
                            "<tr><td>18</td><td>Classe 18</td></tr>",
                            "<tr><td>19</td><td>Classe 19</td></tr>",
                            "<tr><td>20</td><td>Classe 20</td></tr>",
                            "<tr><td>21</td><td>Classe 21</td></tr>",
                            "<tr><td>22</td><td>Classe 22</td></tr>",
                            "<tr><td>23</td><td>Classe 23</td></tr>",
                            "<tr><td>24</td><td>Classe 24</td></tr>",
                            "<tr><td>25</td><td>Classe 25</td></tr>",
                            "<tr><td>26</td><td>Classe 26</td></tr>",
                            "<tr><td>27</td><td>Classe 27</td></tr>",
                            "<tr><td>28</td><td>Classe 28</td></tr>",
                            "<tr><td>29</td><td>Classe 29</td></tr>",
                            "</table>"
                        ]
                    }
                }
            ],
            "execution_count": 4
        },
        {
            "cell_type": "code",
            "source": [
                ""
            ],
            "metadata": {
                "language": "sql",
                "azdata_cell_guid": "ade37f17-67a9-4356-9179-22541c261b9a"
            },
            "outputs": [],
            "execution_count": null
        },
        {
            "cell_type": "code",
            "source": [
                ""
            ],
            "metadata": {
                "language": "sql",
                "azdata_cell_guid": "cc861454-47d6-4297-b2c2-764414f6e2e8"
            },
            "outputs": [],
            "execution_count": null
        },
        {
            "cell_type": "code",
            "source": [
                ""
            ],
            "metadata": {
                "azdata_cell_guid": "18878e05-3dd3-4da5-9bc3-636c84a5ae57",
                "language": "sql"
            },
            "outputs": [],
            "execution_count": null
        },
        {
            "cell_type": "code",
            "source": [
                ""
            ],
            "metadata": {
                "azdata_cell_guid": "9effb4e4-c369-4f5e-89ff-2056994156ba",
                "language": "sql"
            },
            "outputs": [],
            "execution_count": null
        },
        {
            "cell_type": "code",
            "source": [
                ""
            ],
            "metadata": {
                "azdata_cell_guid": "e07f5f64-c422-4a95-a107-915c83f67aea",
                "language": "sql"
            },
            "outputs": [],
            "execution_count": null
        },
        {
            "cell_type": "code",
            "source": [
                ""
            ],
            "metadata": {
                "language": "sql",
                "azdata_cell_guid": "58e19b0e-621a-4442-a1ed-2682726a2eec"
            },
            "outputs": [],
            "execution_count": null
        },
        {
            "cell_type": "code",
            "source": [
                ""
            ],
            "metadata": {
                "language": "sql",
                "azdata_cell_guid": "2fbbd4b0-d21e-4466-8204-a7bc1b8ca27c"
            },
            "outputs": [],
            "execution_count": null
        },
        {
            "cell_type": "code",
            "source": [
                ""
            ],
            "metadata": {
                "language": "sql",
                "azdata_cell_guid": "e47b0143-be01-4e27-8fdb-3f0225c085da"
            },
            "outputs": [],
            "execution_count": null
        }
    ]
}