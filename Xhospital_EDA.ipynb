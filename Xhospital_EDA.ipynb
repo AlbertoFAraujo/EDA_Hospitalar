{
    "metadata": {
        "kernelspec": {
            "name": "SQL",
            "display_name": "SQL",
            "language": "sql"
        },
        "language_info": {
            "name": "sql",
            "version": ""
        }
    },
    "nbformat_minor": 2,
    "nbformat": 4,
    "cells": [
        {
            "cell_type": "markdown",
            "source": [
                "# Exploração de dados Xhospital\n",
                "\n",
                "Trata-se de uma base de dados hospitalar....\n",
                "\n",
                "<span style=\"color: var(--vscode-foreground);\">Embora o Azure Data Studio gere automaticamente gráficos nos outputs, a ideia desta exploração é apenas responder as questões mencionadas.</span>\n",
                "\n",
                "<span style=\"color: var(--vscode-foreground);\">&gt; Créditos: Xperium Treinamentos</span>"
            ],
            "metadata": {
                "language": "sql",
                "azdata_cell_guid": "2e0e0ac9-60cf-4d0d-9435-c302dd4114d4"
            },
            "attachments": {}
        },
        {
            "cell_type": "code",
            "source": [
                "SELECT \r\n",
                "    TOP(10) * \r\n",
                "FROM tab_classe_procedimento"
            ],
            "metadata": {
                "azdata_cell_guid": "7899a291-2958-4b34-b172-fd6400251011",
                "language": "sql"
            },
            "outputs": [
                {
                    "output_type": "display_data",
                    "data": {
                        "text/html": "(10 rows affected)"
                    },
                    "metadata": {}
                },
                {
                    "output_type": "display_data",
                    "data": {
                        "text/html": "Total execution time: 00:00:00.005"
                    },
                    "metadata": {}
                },
                {
                    "output_type": "execute_result",
                    "metadata": {},
                    "execution_count": 2,
                    "data": {
                        "application/vnd.dataresource+json": {
                            "schema": {
                                "fields": [
                                    {
                                        "name": "cod_classe"
                                    },
                                    {
                                        "name": "classe"
                                    }
                                ]
                            },
                            "data": [
                                {
                                    "cod_classe": "1",
                                    "classe": "Classe 1"
                                },
                                {
                                    "cod_classe": "2",
                                    "classe": "Classe 2"
                                },
                                {
                                    "cod_classe": "3",
                                    "classe": "Classe 3"
                                },
                                {
                                    "cod_classe": "4",
                                    "classe": "Classe 4"
                                },
                                {
                                    "cod_classe": "5",
                                    "classe": "Classe 5"
                                },
                                {
                                    "cod_classe": "6",
                                    "classe": "Classe 6"
                                },
                                {
                                    "cod_classe": "7",
                                    "classe": "Classe 7"
                                },
                                {
                                    "cod_classe": "8",
                                    "classe": "Classe 8"
                                },
                                {
                                    "cod_classe": "9",
                                    "classe": "Classe 9"
                                },
                                {
                                    "cod_classe": "10",
                                    "classe": "Classe 10"
                                }
                            ]
                        },
                        "text/html": [
                            "<table>",
                            "<tr><th>cod_classe</th><th>classe</th></tr>",
                            "<tr><td>1</td><td>Classe 1</td></tr>",
                            "<tr><td>2</td><td>Classe 2</td></tr>",
                            "<tr><td>3</td><td>Classe 3</td></tr>",
                            "<tr><td>4</td><td>Classe 4</td></tr>",
                            "<tr><td>5</td><td>Classe 5</td></tr>",
                            "<tr><td>6</td><td>Classe 6</td></tr>",
                            "<tr><td>7</td><td>Classe 7</td></tr>",
                            "<tr><td>8</td><td>Classe 8</td></tr>",
                            "<tr><td>9</td><td>Classe 9</td></tr>",
                            "<tr><td>10</td><td>Classe 10</td></tr>",
                            "</table>"
                        ]
                    }
                }
            ],
            "execution_count": 2
        },
        {
            "cell_type": "code",
            "source": [
                "SELECT \r\n",
                "    TOP(10) * \r\n",
                "FROM tab_convenio"
            ],
            "metadata": {
                "language": "sql",
                "azdata_cell_guid": "ade37f17-67a9-4356-9179-22541c261b9a"
            },
            "outputs": [
                {
                    "output_type": "display_data",
                    "data": {
                        "text/html": "(10 rows affected)"
                    },
                    "metadata": {}
                },
                {
                    "output_type": "display_data",
                    "data": {
                        "text/html": "Total execution time: 00:00:00.014"
                    },
                    "metadata": {}
                },
                {
                    "output_type": "execute_result",
                    "metadata": {},
                    "execution_count": 3,
                    "data": {
                        "application/vnd.dataresource+json": {
                            "schema": {
                                "fields": [
                                    {
                                        "name": "cod_convenio"
                                    },
                                    {
                                        "name": "convenio"
                                    }
                                ]
                            },
                            "data": [
                                {
                                    "cod_convenio": "1",
                                    "convenio": "Saúde+"
                                },
                                {
                                    "cod_convenio": "2",
                                    "convenio": "Plano Bem-Estar"
                                },
                                {
                                    "cod_convenio": "3",
                                    "convenio": "Vitalícia Saúde"
                                },
                                {
                                    "cod_convenio": "4",
                                    "convenio": "Unicorp"
                                },
                                {
                                    "cod_convenio": "5",
                                    "convenio": "Vida Plena"
                                },
                                {
                                    "cod_convenio": "6",
                                    "convenio": "Saúde Fácil"
                                },
                                {
                                    "cod_convenio": "7",
                                    "convenio": "Previna Saúde"
                                },
                                {
                                    "cod_convenio": "8",
                                    "convenio": "Saúde Premier"
                                },
                                {
                                    "cod_convenio": "9",
                                    "convenio": "Serenidade Saúde"
                                },
                                {
                                    "cod_convenio": "10",
                                    "convenio": "Plano Vida Nova"
                                }
                            ]
                        },
                        "text/html": [
                            "<table>",
                            "<tr><th>cod_convenio</th><th>convenio</th></tr>",
                            "<tr><td>1</td><td>Saúde+</td></tr>",
                            "<tr><td>2</td><td>Plano Bem-Estar</td></tr>",
                            "<tr><td>3</td><td>Vitalícia Saúde</td></tr>",
                            "<tr><td>4</td><td>Unicorp</td></tr>",
                            "<tr><td>5</td><td>Vida Plena</td></tr>",
                            "<tr><td>6</td><td>Saúde Fácil</td></tr>",
                            "<tr><td>7</td><td>Previna Saúde</td></tr>",
                            "<tr><td>8</td><td>Saúde Premier</td></tr>",
                            "<tr><td>9</td><td>Serenidade Saúde</td></tr>",
                            "<tr><td>10</td><td>Plano Vida Nova</td></tr>",
                            "</table>"
                        ]
                    }
                }
            ],
            "execution_count": 3
        },
        {
            "cell_type": "code",
            "source": [
                "SELECT \r\n",
                "    TOP(10) * \r\n",
                "FROM tab_internacoes"
            ],
            "metadata": {
                "language": "sql",
                "azdata_cell_guid": "cc861454-47d6-4297-b2c2-764414f6e2e8"
            },
            "outputs": [
                {
                    "output_type": "display_data",
                    "data": {
                        "text/html": "(10 rows affected)"
                    },
                    "metadata": {}
                },
                {
                    "output_type": "display_data",
                    "data": {
                        "text/html": "Total execution time: 00:00:00.014"
                    },
                    "metadata": {}
                },
                {
                    "output_type": "execute_result",
                    "metadata": {},
                    "execution_count": 4,
                    "data": {
                        "application/vnd.dataresource+json": {
                            "schema": {
                                "fields": [
                                    {
                                        "name": "data_admissao"
                                    },
                                    {
                                        "name": "data_alta"
                                    },
                                    {
                                        "name": "tipo_alta"
                                    },
                                    {
                                        "name": "cod_paciente"
                                    },
                                    {
                                        "name": "numero_da_internacao"
                                    },
                                    {
                                        "name": "cod_medico"
                                    },
                                    {
                                        "name": "cod_procedimento"
                                    },
                                    {
                                        "name": "valor"
                                    },
                                    {
                                        "name": "acomodacao"
                                    }
                                ]
                            },
                            "data": [
                                {
                                    "data_admissao": "2003-01-23 07:21:00.0000000",
                                    "data_alta": "2003-01-23 17:35:00.0000000",
                                    "tipo_alta": "Medica",
                                    "cod_paciente": "1754",
                                    "numero_da_internacao": "1",
                                    "cod_medico": "88",
                                    "cod_procedimento": "258",
                                    "valor": "1825",
                                    "acomodacao": "Apartamento"
                                },
                                {
                                    "data_admissao": "2004-01-23 07:17:00.0000000",
                                    "data_alta": "2004-01-23 07:50:00.0000000",
                                    "tipo_alta": "Medica",
                                    "cod_paciente": "634",
                                    "numero_da_internacao": "1",
                                    "cod_medico": "88",
                                    "cod_procedimento": "258",
                                    "valor": "1190",
                                    "acomodacao": "Apartamento"
                                },
                                {
                                    "data_admissao": "2004-01-23 07:55:00.0000000",
                                    "data_alta": "2004-01-23 17:10:00.0000000",
                                    "tipo_alta": "Medica",
                                    "cod_paciente": "2351",
                                    "numero_da_internacao": "1",
                                    "cod_medico": "88",
                                    "cod_procedimento": "258",
                                    "valor": "109469",
                                    "acomodacao": "Apartamento"
                                },
                                {
                                    "data_admissao": "2004-01-23 08:05:00.0000000",
                                    "data_alta": "2004-01-23 16:40:00.0000000",
                                    "tipo_alta": "Medica",
                                    "cod_paciente": "706",
                                    "numero_da_internacao": "1",
                                    "cod_medico": "88",
                                    "cod_procedimento": "258",
                                    "valor": "1510",
                                    "acomodacao": "Apartamento"
                                },
                                {
                                    "data_admissao": "2010-01-23 07:13:00.0000000",
                                    "data_alta": "2010-01-23 17:20:00.0000000",
                                    "tipo_alta": "Medica",
                                    "cod_paciente": "822",
                                    "numero_da_internacao": "1",
                                    "cod_medico": "88",
                                    "cod_procedimento": "258",
                                    "valor": "1190",
                                    "acomodacao": "Apartamento"
                                },
                                {
                                    "data_admissao": "2011-01-23 07:17:00.0000000",
                                    "data_alta": "2011-01-23 15:45:00.0000000",
                                    "tipo_alta": "Medica",
                                    "cod_paciente": "446",
                                    "numero_da_internacao": "1",
                                    "cod_medico": "88",
                                    "cod_procedimento": "258",
                                    "valor": "1715",
                                    "acomodacao": "Apartamento"
                                },
                                {
                                    "data_admissao": "2011-01-23 07:51:00.0000000",
                                    "data_alta": "2011-01-23 17:45:00.0000000",
                                    "tipo_alta": "Medica",
                                    "cod_paciente": "1162",
                                    "numero_da_internacao": "1",
                                    "cod_medico": "88",
                                    "cod_procedimento": "258",
                                    "valor": "109469",
                                    "acomodacao": "Apartamento"
                                },
                                {
                                    "data_admissao": "2024-01-23 07:07:00.0000000",
                                    "data_alta": "2024-01-23 17:15:00.0000000",
                                    "tipo_alta": "Medica",
                                    "cod_paciente": "707",
                                    "numero_da_internacao": "1",
                                    "cod_medico": "88",
                                    "cod_procedimento": "258",
                                    "valor": "1190",
                                    "acomodacao": "Apartamento"
                                },
                                {
                                    "data_admissao": "2025-01-23 07:02:00.0000000",
                                    "data_alta": "2025-01-23 17:15:00.0000000",
                                    "tipo_alta": "Medica",
                                    "cod_paciente": "811",
                                    "numero_da_internacao": "1",
                                    "cod_medico": "88",
                                    "cod_procedimento": "258",
                                    "valor": "1734",
                                    "acomodacao": "Apartamento"
                                },
                                {
                                    "data_admissao": "2026-01-23 06:49:00.0000000",
                                    "data_alta": "2026-01-23 16:00:00.0000000",
                                    "tipo_alta": "Medica",
                                    "cod_paciente": "2467",
                                    "numero_da_internacao": "1",
                                    "cod_medico": "88",
                                    "cod_procedimento": "258",
                                    "valor": "109469",
                                    "acomodacao": "Apartamento"
                                }
                            ]
                        },
                        "text/html": [
                            "<table>",
                            "<tr><th>data_admissao</th><th>data_alta</th><th>tipo_alta</th><th>cod_paciente</th><th>numero_da_internacao</th><th>cod_medico</th><th>cod_procedimento</th><th>valor</th><th>acomodacao</th></tr>",
                            "<tr><td>2003-01-23 07:21:00.0000000</td><td>2003-01-23 17:35:00.0000000</td><td>Medica</td><td>1754</td><td>1</td><td>88</td><td>258</td><td>1825</td><td>Apartamento</td></tr>",
                            "<tr><td>2004-01-23 07:17:00.0000000</td><td>2004-01-23 07:50:00.0000000</td><td>Medica</td><td>634</td><td>1</td><td>88</td><td>258</td><td>1190</td><td>Apartamento</td></tr>",
                            "<tr><td>2004-01-23 07:55:00.0000000</td><td>2004-01-23 17:10:00.0000000</td><td>Medica</td><td>2351</td><td>1</td><td>88</td><td>258</td><td>109469</td><td>Apartamento</td></tr>",
                            "<tr><td>2004-01-23 08:05:00.0000000</td><td>2004-01-23 16:40:00.0000000</td><td>Medica</td><td>706</td><td>1</td><td>88</td><td>258</td><td>1510</td><td>Apartamento</td></tr>",
                            "<tr><td>2010-01-23 07:13:00.0000000</td><td>2010-01-23 17:20:00.0000000</td><td>Medica</td><td>822</td><td>1</td><td>88</td><td>258</td><td>1190</td><td>Apartamento</td></tr>",
                            "<tr><td>2011-01-23 07:17:00.0000000</td><td>2011-01-23 15:45:00.0000000</td><td>Medica</td><td>446</td><td>1</td><td>88</td><td>258</td><td>1715</td><td>Apartamento</td></tr>",
                            "<tr><td>2011-01-23 07:51:00.0000000</td><td>2011-01-23 17:45:00.0000000</td><td>Medica</td><td>1162</td><td>1</td><td>88</td><td>258</td><td>109469</td><td>Apartamento</td></tr>",
                            "<tr><td>2024-01-23 07:07:00.0000000</td><td>2024-01-23 17:15:00.0000000</td><td>Medica</td><td>707</td><td>1</td><td>88</td><td>258</td><td>1190</td><td>Apartamento</td></tr>",
                            "<tr><td>2025-01-23 07:02:00.0000000</td><td>2025-01-23 17:15:00.0000000</td><td>Medica</td><td>811</td><td>1</td><td>88</td><td>258</td><td>1734</td><td>Apartamento</td></tr>",
                            "<tr><td>2026-01-23 06:49:00.0000000</td><td>2026-01-23 16:00:00.0000000</td><td>Medica</td><td>2467</td><td>1</td><td>88</td><td>258</td><td>109469</td><td>Apartamento</td></tr>",
                            "</table>"
                        ]
                    }
                }
            ],
            "execution_count": 4
        },
        {
            "cell_type": "code",
            "source": [
                "SELECT \r\n",
                "    TOP(10) * \r\n",
                "FROM tab_medicos"
            ],
            "metadata": {
                "azdata_cell_guid": "18878e05-3dd3-4da5-9bc3-636c84a5ae57",
                "language": "sql"
            },
            "outputs": [
                {
                    "output_type": "display_data",
                    "data": {
                        "text/html": "(10 rows affected)"
                    },
                    "metadata": {}
                },
                {
                    "output_type": "display_data",
                    "data": {
                        "text/html": "Total execution time: 00:00:00.018"
                    },
                    "metadata": {}
                },
                {
                    "output_type": "execute_result",
                    "metadata": {},
                    "execution_count": 5,
                    "data": {
                        "application/vnd.dataresource+json": {
                            "schema": {
                                "fields": [
                                    {
                                        "name": "cod_medico"
                                    },
                                    {
                                        "name": "medico"
                                    }
                                ]
                            },
                            "data": [
                                {
                                    "cod_medico": "1",
                                    "medico": "João Silva"
                                },
                                {
                                    "cod_medico": "2",
                                    "medico": "Ana Oliveira"
                                },
                                {
                                    "cod_medico": "3",
                                    "medico": "Pedro Santos"
                                },
                                {
                                    "cod_medico": "4",
                                    "medico": "Maria Costa"
                                },
                                {
                                    "cod_medico": "5",
                                    "medico": "André Pereira"
                                },
                                {
                                    "cod_medico": "6",
                                    "medico": "Luana Almeida"
                                },
                                {
                                    "cod_medico": "7",
                                    "medico": "Lucas Carvalho"
                                },
                                {
                                    "cod_medico": "8",
                                    "medico": "Sofia Ferreira"
                                },
                                {
                                    "cod_medico": "9",
                                    "medico": "Gabriel Rodrigues"
                                },
                                {
                                    "cod_medico": "10",
                                    "medico": "Laura Martins"
                                }
                            ]
                        },
                        "text/html": [
                            "<table>",
                            "<tr><th>cod_medico</th><th>medico</th></tr>",
                            "<tr><td>1</td><td>João Silva</td></tr>",
                            "<tr><td>2</td><td>Ana Oliveira</td></tr>",
                            "<tr><td>3</td><td>Pedro Santos</td></tr>",
                            "<tr><td>4</td><td>Maria Costa</td></tr>",
                            "<tr><td>5</td><td>André Pereira</td></tr>",
                            "<tr><td>6</td><td>Luana Almeida</td></tr>",
                            "<tr><td>7</td><td>Lucas Carvalho</td></tr>",
                            "<tr><td>8</td><td>Sofia Ferreira</td></tr>",
                            "<tr><td>9</td><td>Gabriel Rodrigues</td></tr>",
                            "<tr><td>10</td><td>Laura Martins</td></tr>",
                            "</table>"
                        ]
                    }
                }
            ],
            "execution_count": 5
        },
        {
            "cell_type": "code",
            "source": [
                "SELECT \r\n",
                "    TOP(10) * \r\n",
                "FROM tab_paciente"
            ],
            "metadata": {
                "azdata_cell_guid": "9effb4e4-c369-4f5e-89ff-2056994156ba",
                "language": "sql"
            },
            "outputs": [
                {
                    "output_type": "display_data",
                    "data": {
                        "text/html": "(10 rows affected)"
                    },
                    "metadata": {}
                },
                {
                    "output_type": "display_data",
                    "data": {
                        "text/html": "Total execution time: 00:00:00.014"
                    },
                    "metadata": {}
                },
                {
                    "output_type": "execute_result",
                    "metadata": {},
                    "execution_count": 6,
                    "data": {
                        "application/vnd.dataresource+json": {
                            "schema": {
                                "fields": [
                                    {
                                        "name": "cod_paciente"
                                    },
                                    {
                                        "name": "nome_paciente"
                                    },
                                    {
                                        "name": "genero_paciente"
                                    },
                                    {
                                        "name": "data_nasc_paciente"
                                    },
                                    {
                                        "name": "cod_convenio"
                                    }
                                ]
                            },
                            "data": [
                                {
                                    "cod_paciente": "1",
                                    "nome_paciente": "Paciente 1",
                                    "genero_paciente": "F",
                                    "data_nasc_paciente": "1977-06-14 00:00:00.0000000",
                                    "cod_convenio": "8"
                                },
                                {
                                    "cod_paciente": "2",
                                    "nome_paciente": "Paciente 2",
                                    "genero_paciente": "F",
                                    "data_nasc_paciente": "1968-09-15 00:00:00.0000000",
                                    "cod_convenio": "8"
                                },
                                {
                                    "cod_paciente": "3",
                                    "nome_paciente": "Paciente 3",
                                    "genero_paciente": "F",
                                    "data_nasc_paciente": "1986-08-20 00:00:00.0000000",
                                    "cod_convenio": "8"
                                },
                                {
                                    "cod_paciente": "4",
                                    "nome_paciente": "Paciente 4",
                                    "genero_paciente": "F",
                                    "data_nasc_paciente": "1978-04-21 00:00:00.0000000",
                                    "cod_convenio": "10"
                                },
                                {
                                    "cod_paciente": "5",
                                    "nome_paciente": "Paciente 5",
                                    "genero_paciente": "F",
                                    "data_nasc_paciente": "1954-09-13 00:00:00.0000000",
                                    "cod_convenio": "39"
                                },
                                {
                                    "cod_paciente": "6",
                                    "nome_paciente": "Paciente 6",
                                    "genero_paciente": "F",
                                    "data_nasc_paciente": "1970-07-27 00:00:00.0000000",
                                    "cod_convenio": "13"
                                },
                                {
                                    "cod_paciente": "7",
                                    "nome_paciente": "Paciente 7",
                                    "genero_paciente": "F",
                                    "data_nasc_paciente": "1973-10-08 00:00:00.0000000",
                                    "cod_convenio": "10"
                                },
                                {
                                    "cod_paciente": "8",
                                    "nome_paciente": "Paciente 8",
                                    "genero_paciente": "F",
                                    "data_nasc_paciente": "1955-12-04 00:00:00.0000000",
                                    "cod_convenio": "12"
                                },
                                {
                                    "cod_paciente": "9",
                                    "nome_paciente": "Paciente 9",
                                    "genero_paciente": "F",
                                    "data_nasc_paciente": "2003-06-22 00:00:00.0000000",
                                    "cod_convenio": "30"
                                },
                                {
                                    "cod_paciente": "10",
                                    "nome_paciente": "Paciente 10",
                                    "genero_paciente": "F",
                                    "data_nasc_paciente": "1951-07-11 00:00:00.0000000",
                                    "cod_convenio": "2"
                                }
                            ]
                        },
                        "text/html": [
                            "<table>",
                            "<tr><th>cod_paciente</th><th>nome_paciente</th><th>genero_paciente</th><th>data_nasc_paciente</th><th>cod_convenio</th></tr>",
                            "<tr><td>1</td><td>Paciente 1</td><td>F</td><td>1977-06-14 00:00:00.0000000</td><td>8</td></tr>",
                            "<tr><td>2</td><td>Paciente 2</td><td>F</td><td>1968-09-15 00:00:00.0000000</td><td>8</td></tr>",
                            "<tr><td>3</td><td>Paciente 3</td><td>F</td><td>1986-08-20 00:00:00.0000000</td><td>8</td></tr>",
                            "<tr><td>4</td><td>Paciente 4</td><td>F</td><td>1978-04-21 00:00:00.0000000</td><td>10</td></tr>",
                            "<tr><td>5</td><td>Paciente 5</td><td>F</td><td>1954-09-13 00:00:00.0000000</td><td>39</td></tr>",
                            "<tr><td>6</td><td>Paciente 6</td><td>F</td><td>1970-07-27 00:00:00.0000000</td><td>13</td></tr>",
                            "<tr><td>7</td><td>Paciente 7</td><td>F</td><td>1973-10-08 00:00:00.0000000</td><td>10</td></tr>",
                            "<tr><td>8</td><td>Paciente 8</td><td>F</td><td>1955-12-04 00:00:00.0000000</td><td>12</td></tr>",
                            "<tr><td>9</td><td>Paciente 9</td><td>F</td><td>2003-06-22 00:00:00.0000000</td><td>30</td></tr>",
                            "<tr><td>10</td><td>Paciente 10</td><td>F</td><td>1951-07-11 00:00:00.0000000</td><td>2</td></tr>",
                            "</table>"
                        ]
                    }
                }
            ],
            "execution_count": 6
        },
        {
            "cell_type": "code",
            "source": [
                "SELECT \r\n",
                "    TOP(10) * \r\n",
                "FROM tab_procedimento"
            ],
            "metadata": {
                "azdata_cell_guid": "e07f5f64-c422-4a95-a107-915c83f67aea",
                "language": "sql"
            },
            "outputs": [
                {
                    "output_type": "display_data",
                    "data": {
                        "text/html": "(10 rows affected)"
                    },
                    "metadata": {}
                },
                {
                    "output_type": "display_data",
                    "data": {
                        "text/html": "Total execution time: 00:00:00.015"
                    },
                    "metadata": {}
                },
                {
                    "output_type": "execute_result",
                    "metadata": {},
                    "execution_count": 7,
                    "data": {
                        "application/vnd.dataresource+json": {
                            "schema": {
                                "fields": [
                                    {
                                        "name": "cod_procedimento"
                                    },
                                    {
                                        "name": "procedimento"
                                    },
                                    {
                                        "name": "cod_classe"
                                    }
                                ]
                            },
                            "data": [
                                {
                                    "cod_procedimento": "1",
                                    "procedimento": "Procedimento 1",
                                    "cod_classe": "1"
                                },
                                {
                                    "cod_procedimento": "2",
                                    "procedimento": "Procedimento 2",
                                    "cod_classe": "1"
                                },
                                {
                                    "cod_procedimento": "3",
                                    "procedimento": "Procedimento 3",
                                    "cod_classe": "1"
                                },
                                {
                                    "cod_procedimento": "4",
                                    "procedimento": "Procedimento 4",
                                    "cod_classe": "1"
                                },
                                {
                                    "cod_procedimento": "5",
                                    "procedimento": "Procedimento 5",
                                    "cod_classe": "1"
                                },
                                {
                                    "cod_procedimento": "6",
                                    "procedimento": "Procedimento 6",
                                    "cod_classe": "1"
                                },
                                {
                                    "cod_procedimento": "7",
                                    "procedimento": "Procedimento 7",
                                    "cod_classe": "1"
                                },
                                {
                                    "cod_procedimento": "8",
                                    "procedimento": "Procedimento 8",
                                    "cod_classe": "1"
                                },
                                {
                                    "cod_procedimento": "9",
                                    "procedimento": "Procedimento 9",
                                    "cod_classe": "1"
                                },
                                {
                                    "cod_procedimento": "10",
                                    "procedimento": "Procedimento 10",
                                    "cod_classe": "1"
                                }
                            ]
                        },
                        "text/html": [
                            "<table>",
                            "<tr><th>cod_procedimento</th><th>procedimento</th><th>cod_classe</th></tr>",
                            "<tr><td>1</td><td>Procedimento 1</td><td>1</td></tr>",
                            "<tr><td>2</td><td>Procedimento 2</td><td>1</td></tr>",
                            "<tr><td>3</td><td>Procedimento 3</td><td>1</td></tr>",
                            "<tr><td>4</td><td>Procedimento 4</td><td>1</td></tr>",
                            "<tr><td>5</td><td>Procedimento 5</td><td>1</td></tr>",
                            "<tr><td>6</td><td>Procedimento 6</td><td>1</td></tr>",
                            "<tr><td>7</td><td>Procedimento 7</td><td>1</td></tr>",
                            "<tr><td>8</td><td>Procedimento 8</td><td>1</td></tr>",
                            "<tr><td>9</td><td>Procedimento 9</td><td>1</td></tr>",
                            "<tr><td>10</td><td>Procedimento 10</td><td>1</td></tr>",
                            "</table>"
                        ]
                    }
                }
            ],
            "execution_count": 7
        },
        {
            "cell_type": "code",
            "source": [
                ""
            ],
            "metadata": {
                "language": "sql",
                "azdata_cell_guid": "58e19b0e-621a-4442-a1ed-2682726a2eec"
            },
            "outputs": [],
            "execution_count": null
        },
        {
            "cell_type": "code",
            "source": [
                ""
            ],
            "metadata": {
                "language": "sql",
                "azdata_cell_guid": "2fbbd4b0-d21e-4466-8204-a7bc1b8ca27c"
            },
            "outputs": [],
            "execution_count": null
        },
        {
            "cell_type": "code",
            "source": [
                ""
            ],
            "metadata": {
                "language": "sql",
                "azdata_cell_guid": "e47b0143-be01-4e27-8fdb-3f0225c085da"
            },
            "outputs": [],
            "execution_count": null
        }
    ]
}