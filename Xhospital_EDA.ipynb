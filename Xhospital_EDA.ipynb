{
    "metadata": {
        "kernelspec": {
            "name": "SQL",
            "display_name": "SQL",
            "language": "sql"
        },
        "language_info": {
            "name": "sql",
            "version": ""
        }
    },
    "nbformat_minor": 2,
    "nbformat": 4,
    "cells": [
        {
            "cell_type": "markdown",
            "source": [
                "# Exploração de dados Xhospital\n",
                "\n",
                "Trata-se de uma base de dados hospitalar....\n",
                "\n",
                "<span style=\"color: var(--vscode-foreground);\">Embora o Azure Data Studio gere automaticamente gráficos nos outputs, a ideia desta exploração é apenas responder as questões mencionadas.</span>\n",
                "\n",
                "<span style=\"color: var(--vscode-foreground);\">&gt; Créditos: Xperium Treinamentos</span>"
            ],
            "metadata": {
                "language": "sql",
                "azdata_cell_guid": "2e0e0ac9-60cf-4d0d-9435-c302dd4114d4"
            },
            "attachments": {}
        },
        {
            "cell_type": "code",
            "source": [
                "SELECT \r\n",
                "    TOP(10) * \r\n",
                "FROM tab_classe_procedimento"
            ],
            "metadata": {
                "azdata_cell_guid": "7899a291-2958-4b34-b172-fd6400251011",
                "language": "sql"
            },
            "outputs": [
                {
                    "output_type": "display_data",
                    "data": {
                        "text/html": "(10 rows affected)"
                    },
                    "metadata": {}
                },
                {
                    "output_type": "display_data",
                    "data": {
                        "text/html": "Total execution time: 00:00:00.005"
                    },
                    "metadata": {}
                },
                {
                    "output_type": "execute_result",
                    "metadata": {},
                    "execution_count": 2,
                    "data": {
                        "application/vnd.dataresource+json": {
                            "schema": {
                                "fields": [
                                    {
                                        "name": "cod_classe"
                                    },
                                    {
                                        "name": "classe"
                                    }
                                ]
                            },
                            "data": [
                                {
                                    "cod_classe": "1",
                                    "classe": "Classe 1"
                                },
                                {
                                    "cod_classe": "2",
                                    "classe": "Classe 2"
                                },
                                {
                                    "cod_classe": "3",
                                    "classe": "Classe 3"
                                },
                                {
                                    "cod_classe": "4",
                                    "classe": "Classe 4"
                                },
                                {
                                    "cod_classe": "5",
                                    "classe": "Classe 5"
                                },
                                {
                                    "cod_classe": "6",
                                    "classe": "Classe 6"
                                },
                                {
                                    "cod_classe": "7",
                                    "classe": "Classe 7"
                                },
                                {
                                    "cod_classe": "8",
                                    "classe": "Classe 8"
                                },
                                {
                                    "cod_classe": "9",
                                    "classe": "Classe 9"
                                },
                                {
                                    "cod_classe": "10",
                                    "classe": "Classe 10"
                                }
                            ]
                        },
                        "text/html": [
                            "<table>",
                            "<tr><th>cod_classe</th><th>classe</th></tr>",
                            "<tr><td>1</td><td>Classe 1</td></tr>",
                            "<tr><td>2</td><td>Classe 2</td></tr>",
                            "<tr><td>3</td><td>Classe 3</td></tr>",
                            "<tr><td>4</td><td>Classe 4</td></tr>",
                            "<tr><td>5</td><td>Classe 5</td></tr>",
                            "<tr><td>6</td><td>Classe 6</td></tr>",
                            "<tr><td>7</td><td>Classe 7</td></tr>",
                            "<tr><td>8</td><td>Classe 8</td></tr>",
                            "<tr><td>9</td><td>Classe 9</td></tr>",
                            "<tr><td>10</td><td>Classe 10</td></tr>",
                            "</table>"
                        ]
                    }
                }
            ],
            "execution_count": 2
        },
        {
            "cell_type": "code",
            "source": [
                "SELECT \r\n",
                "    TOP(10) * \r\n",
                "FROM tab_convenio"
            ],
            "metadata": {
                "language": "sql",
                "azdata_cell_guid": "ade37f17-67a9-4356-9179-22541c261b9a"
            },
            "outputs": [
                {
                    "output_type": "display_data",
                    "data": {
                        "text/html": "(10 rows affected)"
                    },
                    "metadata": {}
                },
                {
                    "output_type": "display_data",
                    "data": {
                        "text/html": "Total execution time: 00:00:00.014"
                    },
                    "metadata": {}
                },
                {
                    "output_type": "execute_result",
                    "metadata": {},
                    "execution_count": 3,
                    "data": {
                        "application/vnd.dataresource+json": {
                            "schema": {
                                "fields": [
                                    {
                                        "name": "cod_convenio"
                                    },
                                    {
                                        "name": "convenio"
                                    }
                                ]
                            },
                            "data": [
                                {
                                    "cod_convenio": "1",
                                    "convenio": "Saúde+"
                                },
                                {
                                    "cod_convenio": "2",
                                    "convenio": "Plano Bem-Estar"
                                },
                                {
                                    "cod_convenio": "3",
                                    "convenio": "Vitalícia Saúde"
                                },
                                {
                                    "cod_convenio": "4",
                                    "convenio": "Unicorp"
                                },
                                {
                                    "cod_convenio": "5",
                                    "convenio": "Vida Plena"
                                },
                                {
                                    "cod_convenio": "6",
                                    "convenio": "Saúde Fácil"
                                },
                                {
                                    "cod_convenio": "7",
                                    "convenio": "Previna Saúde"
                                },
                                {
                                    "cod_convenio": "8",
                                    "convenio": "Saúde Premier"
                                },
                                {
                                    "cod_convenio": "9",
                                    "convenio": "Serenidade Saúde"
                                },
                                {
                                    "cod_convenio": "10",
                                    "convenio": "Plano Vida Nova"
                                }
                            ]
                        },
                        "text/html": [
                            "<table>",
                            "<tr><th>cod_convenio</th><th>convenio</th></tr>",
                            "<tr><td>1</td><td>Saúde+</td></tr>",
                            "<tr><td>2</td><td>Plano Bem-Estar</td></tr>",
                            "<tr><td>3</td><td>Vitalícia Saúde</td></tr>",
                            "<tr><td>4</td><td>Unicorp</td></tr>",
                            "<tr><td>5</td><td>Vida Plena</td></tr>",
                            "<tr><td>6</td><td>Saúde Fácil</td></tr>",
                            "<tr><td>7</td><td>Previna Saúde</td></tr>",
                            "<tr><td>8</td><td>Saúde Premier</td></tr>",
                            "<tr><td>9</td><td>Serenidade Saúde</td></tr>",
                            "<tr><td>10</td><td>Plano Vida Nova</td></tr>",
                            "</table>"
                        ]
                    }
                }
            ],
            "execution_count": 3
        },
        {
            "cell_type": "code",
            "source": [
                "SELECT \r\n",
                "    TOP(10) * \r\n",
                "FROM tab_internacoes"
            ],
            "metadata": {
                "language": "sql",
                "azdata_cell_guid": "cc861454-47d6-4297-b2c2-764414f6e2e8"
            },
            "outputs": [
                {
                    "output_type": "display_data",
                    "data": {
                        "text/html": "(10 rows affected)"
                    },
                    "metadata": {}
                },
                {
                    "output_type": "display_data",
                    "data": {
                        "text/html": "Total execution time: 00:00:00.014"
                    },
                    "metadata": {}
                },
                {
                    "output_type": "execute_result",
                    "metadata": {},
                    "execution_count": 4,
                    "data": {
                        "application/vnd.dataresource+json": {
                            "schema": {
                                "fields": [
                                    {
                                        "name": "data_admissao"
                                    },
                                    {
                                        "name": "data_alta"
                                    },
                                    {
                                        "name": "tipo_alta"
                                    },
                                    {
                                        "name": "cod_paciente"
                                    },
                                    {
                                        "name": "numero_da_internacao"
                                    },
                                    {
                                        "name": "cod_medico"
                                    },
                                    {
                                        "name": "cod_procedimento"
                                    },
                                    {
                                        "name": "valor"
                                    },
                                    {
                                        "name": "acomodacao"
                                    }
                                ]
                            },
                            "data": [
                                {
                                    "data_admissao": "2003-01-23 07:21:00.0000000",
                                    "data_alta": "2003-01-23 17:35:00.0000000",
                                    "tipo_alta": "Medica",
                                    "cod_paciente": "1754",
                                    "numero_da_internacao": "1",
                                    "cod_medico": "88",
                                    "cod_procedimento": "258",
                                    "valor": "1825",
                                    "acomodacao": "Apartamento"
                                },
                                {
                                    "data_admissao": "2004-01-23 07:17:00.0000000",
                                    "data_alta": "2004-01-23 07:50:00.0000000",
                                    "tipo_alta": "Medica",
                                    "cod_paciente": "634",
                                    "numero_da_internacao": "1",
                                    "cod_medico": "88",
                                    "cod_procedimento": "258",
                                    "valor": "1190",
                                    "acomodacao": "Apartamento"
                                },
                                {
                                    "data_admissao": "2004-01-23 07:55:00.0000000",
                                    "data_alta": "2004-01-23 17:10:00.0000000",
                                    "tipo_alta": "Medica",
                                    "cod_paciente": "2351",
                                    "numero_da_internacao": "1",
                                    "cod_medico": "88",
                                    "cod_procedimento": "258",
                                    "valor": "109469",
                                    "acomodacao": "Apartamento"
                                },
                                {
                                    "data_admissao": "2004-01-23 08:05:00.0000000",
                                    "data_alta": "2004-01-23 16:40:00.0000000",
                                    "tipo_alta": "Medica",
                                    "cod_paciente": "706",
                                    "numero_da_internacao": "1",
                                    "cod_medico": "88",
                                    "cod_procedimento": "258",
                                    "valor": "1510",
                                    "acomodacao": "Apartamento"
                                },
                                {
                                    "data_admissao": "2010-01-23 07:13:00.0000000",
                                    "data_alta": "2010-01-23 17:20:00.0000000",
                                    "tipo_alta": "Medica",
                                    "cod_paciente": "822",
                                    "numero_da_internacao": "1",
                                    "cod_medico": "88",
                                    "cod_procedimento": "258",
                                    "valor": "1190",
                                    "acomodacao": "Apartamento"
                                },
                                {
                                    "data_admissao": "2011-01-23 07:17:00.0000000",
                                    "data_alta": "2011-01-23 15:45:00.0000000",
                                    "tipo_alta": "Medica",
                                    "cod_paciente": "446",
                                    "numero_da_internacao": "1",
                                    "cod_medico": "88",
                                    "cod_procedimento": "258",
                                    "valor": "1715",
                                    "acomodacao": "Apartamento"
                                },
                                {
                                    "data_admissao": "2011-01-23 07:51:00.0000000",
                                    "data_alta": "2011-01-23 17:45:00.0000000",
                                    "tipo_alta": "Medica",
                                    "cod_paciente": "1162",
                                    "numero_da_internacao": "1",
                                    "cod_medico": "88",
                                    "cod_procedimento": "258",
                                    "valor": "109469",
                                    "acomodacao": "Apartamento"
                                },
                                {
                                    "data_admissao": "2024-01-23 07:07:00.0000000",
                                    "data_alta": "2024-01-23 17:15:00.0000000",
                                    "tipo_alta": "Medica",
                                    "cod_paciente": "707",
                                    "numero_da_internacao": "1",
                                    "cod_medico": "88",
                                    "cod_procedimento": "258",
                                    "valor": "1190",
                                    "acomodacao": "Apartamento"
                                },
                                {
                                    "data_admissao": "2025-01-23 07:02:00.0000000",
                                    "data_alta": "2025-01-23 17:15:00.0000000",
                                    "tipo_alta": "Medica",
                                    "cod_paciente": "811",
                                    "numero_da_internacao": "1",
                                    "cod_medico": "88",
                                    "cod_procedimento": "258",
                                    "valor": "1734",
                                    "acomodacao": "Apartamento"
                                },
                                {
                                    "data_admissao": "2026-01-23 06:49:00.0000000",
                                    "data_alta": "2026-01-23 16:00:00.0000000",
                                    "tipo_alta": "Medica",
                                    "cod_paciente": "2467",
                                    "numero_da_internacao": "1",
                                    "cod_medico": "88",
                                    "cod_procedimento": "258",
                                    "valor": "109469",
                                    "acomodacao": "Apartamento"
                                }
                            ]
                        },
                        "text/html": [
                            "<table>",
                            "<tr><th>data_admissao</th><th>data_alta</th><th>tipo_alta</th><th>cod_paciente</th><th>numero_da_internacao</th><th>cod_medico</th><th>cod_procedimento</th><th>valor</th><th>acomodacao</th></tr>",
                            "<tr><td>2003-01-23 07:21:00.0000000</td><td>2003-01-23 17:35:00.0000000</td><td>Medica</td><td>1754</td><td>1</td><td>88</td><td>258</td><td>1825</td><td>Apartamento</td></tr>",
                            "<tr><td>2004-01-23 07:17:00.0000000</td><td>2004-01-23 07:50:00.0000000</td><td>Medica</td><td>634</td><td>1</td><td>88</td><td>258</td><td>1190</td><td>Apartamento</td></tr>",
                            "<tr><td>2004-01-23 07:55:00.0000000</td><td>2004-01-23 17:10:00.0000000</td><td>Medica</td><td>2351</td><td>1</td><td>88</td><td>258</td><td>109469</td><td>Apartamento</td></tr>",
                            "<tr><td>2004-01-23 08:05:00.0000000</td><td>2004-01-23 16:40:00.0000000</td><td>Medica</td><td>706</td><td>1</td><td>88</td><td>258</td><td>1510</td><td>Apartamento</td></tr>",
                            "<tr><td>2010-01-23 07:13:00.0000000</td><td>2010-01-23 17:20:00.0000000</td><td>Medica</td><td>822</td><td>1</td><td>88</td><td>258</td><td>1190</td><td>Apartamento</td></tr>",
                            "<tr><td>2011-01-23 07:17:00.0000000</td><td>2011-01-23 15:45:00.0000000</td><td>Medica</td><td>446</td><td>1</td><td>88</td><td>258</td><td>1715</td><td>Apartamento</td></tr>",
                            "<tr><td>2011-01-23 07:51:00.0000000</td><td>2011-01-23 17:45:00.0000000</td><td>Medica</td><td>1162</td><td>1</td><td>88</td><td>258</td><td>109469</td><td>Apartamento</td></tr>",
                            "<tr><td>2024-01-23 07:07:00.0000000</td><td>2024-01-23 17:15:00.0000000</td><td>Medica</td><td>707</td><td>1</td><td>88</td><td>258</td><td>1190</td><td>Apartamento</td></tr>",
                            "<tr><td>2025-01-23 07:02:00.0000000</td><td>2025-01-23 17:15:00.0000000</td><td>Medica</td><td>811</td><td>1</td><td>88</td><td>258</td><td>1734</td><td>Apartamento</td></tr>",
                            "<tr><td>2026-01-23 06:49:00.0000000</td><td>2026-01-23 16:00:00.0000000</td><td>Medica</td><td>2467</td><td>1</td><td>88</td><td>258</td><td>109469</td><td>Apartamento</td></tr>",
                            "</table>"
                        ]
                    }
                }
            ],
            "execution_count": 4
        },
        {
            "cell_type": "code",
            "source": [
                "SELECT \r\n",
                "    TOP(10) * \r\n",
                "FROM tab_medicos"
            ],
            "metadata": {
                "azdata_cell_guid": "18878e05-3dd3-4da5-9bc3-636c84a5ae57",
                "language": "sql"
            },
            "outputs": [
                {
                    "output_type": "display_data",
                    "data": {
                        "text/html": "(10 rows affected)"
                    },
                    "metadata": {}
                },
                {
                    "output_type": "display_data",
                    "data": {
                        "text/html": "Total execution time: 00:00:00.018"
                    },
                    "metadata": {}
                },
                {
                    "output_type": "execute_result",
                    "metadata": {},
                    "execution_count": 5,
                    "data": {
                        "application/vnd.dataresource+json": {
                            "schema": {
                                "fields": [
                                    {
                                        "name": "cod_medico"
                                    },
                                    {
                                        "name": "medico"
                                    }
                                ]
                            },
                            "data": [
                                {
                                    "cod_medico": "1",
                                    "medico": "João Silva"
                                },
                                {
                                    "cod_medico": "2",
                                    "medico": "Ana Oliveira"
                                },
                                {
                                    "cod_medico": "3",
                                    "medico": "Pedro Santos"
                                },
                                {
                                    "cod_medico": "4",
                                    "medico": "Maria Costa"
                                },
                                {
                                    "cod_medico": "5",
                                    "medico": "André Pereira"
                                },
                                {
                                    "cod_medico": "6",
                                    "medico": "Luana Almeida"
                                },
                                {
                                    "cod_medico": "7",
                                    "medico": "Lucas Carvalho"
                                },
                                {
                                    "cod_medico": "8",
                                    "medico": "Sofia Ferreira"
                                },
                                {
                                    "cod_medico": "9",
                                    "medico": "Gabriel Rodrigues"
                                },
                                {
                                    "cod_medico": "10",
                                    "medico": "Laura Martins"
                                }
                            ]
                        },
                        "text/html": [
                            "<table>",
                            "<tr><th>cod_medico</th><th>medico</th></tr>",
                            "<tr><td>1</td><td>João Silva</td></tr>",
                            "<tr><td>2</td><td>Ana Oliveira</td></tr>",
                            "<tr><td>3</td><td>Pedro Santos</td></tr>",
                            "<tr><td>4</td><td>Maria Costa</td></tr>",
                            "<tr><td>5</td><td>André Pereira</td></tr>",
                            "<tr><td>6</td><td>Luana Almeida</td></tr>",
                            "<tr><td>7</td><td>Lucas Carvalho</td></tr>",
                            "<tr><td>8</td><td>Sofia Ferreira</td></tr>",
                            "<tr><td>9</td><td>Gabriel Rodrigues</td></tr>",
                            "<tr><td>10</td><td>Laura Martins</td></tr>",
                            "</table>"
                        ]
                    }
                }
            ],
            "execution_count": 5
        },
        {
            "cell_type": "code",
            "source": [
                "SELECT \r\n",
                "    TOP(10) * \r\n",
                "FROM tab_paciente"
            ],
            "metadata": {
                "azdata_cell_guid": "9effb4e4-c369-4f5e-89ff-2056994156ba",
                "language": "sql"
            },
            "outputs": [
                {
                    "output_type": "display_data",
                    "data": {
                        "text/html": "(10 rows affected)"
                    },
                    "metadata": {}
                },
                {
                    "output_type": "display_data",
                    "data": {
                        "text/html": "Total execution time: 00:00:00.014"
                    },
                    "metadata": {}
                },
                {
                    "output_type": "execute_result",
                    "metadata": {},
                    "execution_count": 6,
                    "data": {
                        "application/vnd.dataresource+json": {
                            "schema": {
                                "fields": [
                                    {
                                        "name": "cod_paciente"
                                    },
                                    {
                                        "name": "nome_paciente"
                                    },
                                    {
                                        "name": "genero_paciente"
                                    },
                                    {
                                        "name": "data_nasc_paciente"
                                    },
                                    {
                                        "name": "cod_convenio"
                                    }
                                ]
                            },
                            "data": [
                                {
                                    "cod_paciente": "1",
                                    "nome_paciente": "Paciente 1",
                                    "genero_paciente": "F",
                                    "data_nasc_paciente": "1977-06-14 00:00:00.0000000",
                                    "cod_convenio": "8"
                                },
                                {
                                    "cod_paciente": "2",
                                    "nome_paciente": "Paciente 2",
                                    "genero_paciente": "F",
                                    "data_nasc_paciente": "1968-09-15 00:00:00.0000000",
                                    "cod_convenio": "8"
                                },
                                {
                                    "cod_paciente": "3",
                                    "nome_paciente": "Paciente 3",
                                    "genero_paciente": "F",
                                    "data_nasc_paciente": "1986-08-20 00:00:00.0000000",
                                    "cod_convenio": "8"
                                },
                                {
                                    "cod_paciente": "4",
                                    "nome_paciente": "Paciente 4",
                                    "genero_paciente": "F",
                                    "data_nasc_paciente": "1978-04-21 00:00:00.0000000",
                                    "cod_convenio": "10"
                                },
                                {
                                    "cod_paciente": "5",
                                    "nome_paciente": "Paciente 5",
                                    "genero_paciente": "F",
                                    "data_nasc_paciente": "1954-09-13 00:00:00.0000000",
                                    "cod_convenio": "39"
                                },
                                {
                                    "cod_paciente": "6",
                                    "nome_paciente": "Paciente 6",
                                    "genero_paciente": "F",
                                    "data_nasc_paciente": "1970-07-27 00:00:00.0000000",
                                    "cod_convenio": "13"
                                },
                                {
                                    "cod_paciente": "7",
                                    "nome_paciente": "Paciente 7",
                                    "genero_paciente": "F",
                                    "data_nasc_paciente": "1973-10-08 00:00:00.0000000",
                                    "cod_convenio": "10"
                                },
                                {
                                    "cod_paciente": "8",
                                    "nome_paciente": "Paciente 8",
                                    "genero_paciente": "F",
                                    "data_nasc_paciente": "1955-12-04 00:00:00.0000000",
                                    "cod_convenio": "12"
                                },
                                {
                                    "cod_paciente": "9",
                                    "nome_paciente": "Paciente 9",
                                    "genero_paciente": "F",
                                    "data_nasc_paciente": "2003-06-22 00:00:00.0000000",
                                    "cod_convenio": "30"
                                },
                                {
                                    "cod_paciente": "10",
                                    "nome_paciente": "Paciente 10",
                                    "genero_paciente": "F",
                                    "data_nasc_paciente": "1951-07-11 00:00:00.0000000",
                                    "cod_convenio": "2"
                                }
                            ]
                        },
                        "text/html": [
                            "<table>",
                            "<tr><th>cod_paciente</th><th>nome_paciente</th><th>genero_paciente</th><th>data_nasc_paciente</th><th>cod_convenio</th></tr>",
                            "<tr><td>1</td><td>Paciente 1</td><td>F</td><td>1977-06-14 00:00:00.0000000</td><td>8</td></tr>",
                            "<tr><td>2</td><td>Paciente 2</td><td>F</td><td>1968-09-15 00:00:00.0000000</td><td>8</td></tr>",
                            "<tr><td>3</td><td>Paciente 3</td><td>F</td><td>1986-08-20 00:00:00.0000000</td><td>8</td></tr>",
                            "<tr><td>4</td><td>Paciente 4</td><td>F</td><td>1978-04-21 00:00:00.0000000</td><td>10</td></tr>",
                            "<tr><td>5</td><td>Paciente 5</td><td>F</td><td>1954-09-13 00:00:00.0000000</td><td>39</td></tr>",
                            "<tr><td>6</td><td>Paciente 6</td><td>F</td><td>1970-07-27 00:00:00.0000000</td><td>13</td></tr>",
                            "<tr><td>7</td><td>Paciente 7</td><td>F</td><td>1973-10-08 00:00:00.0000000</td><td>10</td></tr>",
                            "<tr><td>8</td><td>Paciente 8</td><td>F</td><td>1955-12-04 00:00:00.0000000</td><td>12</td></tr>",
                            "<tr><td>9</td><td>Paciente 9</td><td>F</td><td>2003-06-22 00:00:00.0000000</td><td>30</td></tr>",
                            "<tr><td>10</td><td>Paciente 10</td><td>F</td><td>1951-07-11 00:00:00.0000000</td><td>2</td></tr>",
                            "</table>"
                        ]
                    }
                }
            ],
            "execution_count": 6
        },
        {
            "cell_type": "code",
            "source": [
                "SELECT \r\n",
                "    TOP(10) * \r\n",
                "FROM tab_procedimento"
            ],
            "metadata": {
                "azdata_cell_guid": "e07f5f64-c422-4a95-a107-915c83f67aea",
                "language": "sql"
            },
            "outputs": [
                {
                    "output_type": "display_data",
                    "data": {
                        "text/html": "(10 rows affected)"
                    },
                    "metadata": {}
                },
                {
                    "output_type": "display_data",
                    "data": {
                        "text/html": "Total execution time: 00:00:00.015"
                    },
                    "metadata": {}
                },
                {
                    "output_type": "execute_result",
                    "metadata": {},
                    "execution_count": 7,
                    "data": {
                        "application/vnd.dataresource+json": {
                            "schema": {
                                "fields": [
                                    {
                                        "name": "cod_procedimento"
                                    },
                                    {
                                        "name": "procedimento"
                                    },
                                    {
                                        "name": "cod_classe"
                                    }
                                ]
                            },
                            "data": [
                                {
                                    "cod_procedimento": "1",
                                    "procedimento": "Procedimento 1",
                                    "cod_classe": "1"
                                },
                                {
                                    "cod_procedimento": "2",
                                    "procedimento": "Procedimento 2",
                                    "cod_classe": "1"
                                },
                                {
                                    "cod_procedimento": "3",
                                    "procedimento": "Procedimento 3",
                                    "cod_classe": "1"
                                },
                                {
                                    "cod_procedimento": "4",
                                    "procedimento": "Procedimento 4",
                                    "cod_classe": "1"
                                },
                                {
                                    "cod_procedimento": "5",
                                    "procedimento": "Procedimento 5",
                                    "cod_classe": "1"
                                },
                                {
                                    "cod_procedimento": "6",
                                    "procedimento": "Procedimento 6",
                                    "cod_classe": "1"
                                },
                                {
                                    "cod_procedimento": "7",
                                    "procedimento": "Procedimento 7",
                                    "cod_classe": "1"
                                },
                                {
                                    "cod_procedimento": "8",
                                    "procedimento": "Procedimento 8",
                                    "cod_classe": "1"
                                },
                                {
                                    "cod_procedimento": "9",
                                    "procedimento": "Procedimento 9",
                                    "cod_classe": "1"
                                },
                                {
                                    "cod_procedimento": "10",
                                    "procedimento": "Procedimento 10",
                                    "cod_classe": "1"
                                }
                            ]
                        },
                        "text/html": [
                            "<table>",
                            "<tr><th>cod_procedimento</th><th>procedimento</th><th>cod_classe</th></tr>",
                            "<tr><td>1</td><td>Procedimento 1</td><td>1</td></tr>",
                            "<tr><td>2</td><td>Procedimento 2</td><td>1</td></tr>",
                            "<tr><td>3</td><td>Procedimento 3</td><td>1</td></tr>",
                            "<tr><td>4</td><td>Procedimento 4</td><td>1</td></tr>",
                            "<tr><td>5</td><td>Procedimento 5</td><td>1</td></tr>",
                            "<tr><td>6</td><td>Procedimento 6</td><td>1</td></tr>",
                            "<tr><td>7</td><td>Procedimento 7</td><td>1</td></tr>",
                            "<tr><td>8</td><td>Procedimento 8</td><td>1</td></tr>",
                            "<tr><td>9</td><td>Procedimento 9</td><td>1</td></tr>",
                            "<tr><td>10</td><td>Procedimento 10</td><td>1</td></tr>",
                            "</table>"
                        ]
                    }
                }
            ],
            "execution_count": 7
        },
        {
            "cell_type": "markdown",
            "source": [
                "![](data:image/png;base64,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)"
            ],
            "metadata": {
                "language": "sql",
                "azdata_cell_guid": "4a63c256-b500-442a-80c3-9560c7d5114c"
            },
            "attachments": {}
        },
        {
            "cell_type": "code",
            "source": [
                "-- Quais as classes de procedimentos que mais realizamos na unidade?\r\n",
                "SELECT TOP(5)\r\n",
                "    tab_classe_procedimento.classe,\r\n",
                "    COUNT(*) AS Total\r\n",
                "FROM tab_internacoes\r\n",
                "INNER JOIN tab_procedimento\r\n",
                "ON tab_internacoes.cod_procedimento = tab_procedimento.cod_procedimento\r\n",
                "INNER JOIN tab_classe_procedimento\r\n",
                "ON tab_procedimento.cod_classe = tab_classe_procedimento.cod_classe\r\n",
                "GROUP BY tab_classe_procedimento.classe\r\n",
                "ORDER BY Total DESC"
            ],
            "metadata": {
                "language": "sql",
                "azdata_cell_guid": "58e19b0e-621a-4442-a1ed-2682726a2eec"
            },
            "outputs": [
                {
                    "output_type": "display_data",
                    "data": {
                        "text/html": "(5 rows affected)"
                    },
                    "metadata": {}
                },
                {
                    "output_type": "display_data",
                    "data": {
                        "text/html": "Total execution time: 00:00:00.026"
                    },
                    "metadata": {}
                },
                {
                    "output_type": "execute_result",
                    "metadata": {},
                    "execution_count": 14,
                    "data": {
                        "application/vnd.dataresource+json": {
                            "schema": {
                                "fields": [
                                    {
                                        "name": "classe"
                                    },
                                    {
                                        "name": "Total"
                                    }
                                ]
                            },
                            "data": [
                                {
                                    "classe": "Classe 19",
                                    "Total": "801"
                                },
                                {
                                    "classe": "Classe 1",
                                    "Total": "540"
                                },
                                {
                                    "classe": "Classe 24",
                                    "Total": "305"
                                },
                                {
                                    "classe": "Classe 10",
                                    "Total": "296"
                                },
                                {
                                    "classe": "Classe 25",
                                    "Total": "276"
                                }
                            ]
                        },
                        "text/html": [
                            "<table>",
                            "<tr><th>classe</th><th>Total</th></tr>",
                            "<tr><td>Classe 19</td><td>801</td></tr>",
                            "<tr><td>Classe 1</td><td>540</td></tr>",
                            "<tr><td>Classe 24</td><td>305</td></tr>",
                            "<tr><td>Classe 10</td><td>296</td></tr>",
                            "<tr><td>Classe 25</td><td>276</td></tr>",
                            "</table>"
                        ]
                    }
                }
            ],
            "execution_count": 14
        },
        {
            "cell_type": "code",
            "source": [
                "-- Quais convênios nos geram maior faturamento?\r\n",
                "WITH Tab AS (\r\n",
                "SELECT \r\n",
                "    tab_convenio.convenio,\r\n",
                "    SUM(tab_internacoes.valor) AS Total\r\n",
                "FROM tab_convenio\r\n",
                "INNER JOIN tab_paciente\r\n",
                "ON tab_convenio.cod_convenio = tab_paciente.cod_convenio\r\n",
                "INNER JOIN tab_internacoes\r\n",
                "ON tab_paciente.cod_paciente = tab_paciente.cod_paciente\r\n",
                "GROUP BY tab_convenio.convenio\r\n",
                ")\r\n",
                "SELECT \r\n",
                "    convenio,\r\n",
                "    Total,\r\n",
                "    FORMAT(Total/SUM(Total)OVER(),'0.00%') AS Percentual\r\n",
                "FROM Tab\r\n",
                "ORDER BY Total DESC"
            ],
            "metadata": {
                "language": "sql",
                "azdata_cell_guid": "6f5df69c-5960-4af9-b85e-36917cde0933",
                "tags": []
            },
            "outputs": [
                {
                    "output_type": "display_data",
                    "data": {
                        "text/html": "(57 rows affected)"
                    },
                    "metadata": {}
                },
                {
                    "output_type": "display_data",
                    "data": {
                        "text/html": "Total execution time: 00:00:00.026"
                    },
                    "metadata": {}
                },
                {
                    "output_type": "execute_result",
                    "metadata": {},
                    "execution_count": 35,
                    "data": {
                        "application/vnd.dataresource+json": {
                            "schema": {
                                "fields": [
                                    {
                                        "name": "convenio"
                                    },
                                    {
                                        "name": "Total"
                                    },
                                    {
                                        "name": "Percentual"
                                    }
                                ]
                            },
                            "data": [
                                {
                                    "convenio": "Plano Bem-Estar",
                                    "Total": "4756431046680",
                                    "Percentual": "20,08%"
                                },
                                {
                                    "convenio": "Plano Vida Nova",
                                    "Total": "4606691550766",
                                    "Percentual": "19,45%"
                                },
                                {
                                    "convenio": "Saúde+",
                                    "Total": "3241419676256",
                                    "Percentual": "13,69%"
                                },
                                {
                                    "convenio": "Vitalícia Saúde",
                                    "Total": "3144529414194",
                                    "Percentual": "13,28%"
                                },
                                {
                                    "convenio": "Saúde Premier",
                                    "Total": "1981846269450",
                                    "Percentual": "8,37%"
                                },
                                {
                                    "convenio": "BemSaúde",
                                    "Total": "810354919064",
                                    "Percentual": "3,42%"
                                },
                                {
                                    "convenio": "Integral Saúde",
                                    "Total": "563725161088",
                                    "Percentual": "2,38%"
                                },
                                {
                                    "convenio": "Viva Mais Saúde",
                                    "Total": "563725161088",
                                    "Percentual": "2,38%"
                                },
                                {
                                    "convenio": "Saúde Consciente",
                                    "Total": "519684132878",
                                    "Percentual": "2,19%"
                                },
                                {
                                    "convenio": "Saúde Fácil",
                                    "Total": "510875927236",
                                    "Percentual": "2,16%"
                                },
                                {
                                    "convenio": "Proteção Vital",
                                    "Total": "431602076458",
                                    "Percentual": "1,82%"
                                },
                                {
                                    "convenio": "Unicorp",
                                    "Total": "317095403112",
                                    "Percentual": "1,34%"
                                },
                                {
                                    "convenio": "Banco Saúde",
                                    "Total": "220205141050",
                                    "Percentual": "0,93%"
                                },
                                {
                                    "convenio": "Proteger+",
                                    "Total": "193780524124",
                                    "Percentual": "0,82%"
                                },
                                {
                                    "convenio": "Previna Saúde",
                                    "Total": "167355907198",
                                    "Percentual": "0,71%"
                                },
                                {
                                    "convenio": "Previna+",
                                    "Total": "149739495914",
                                    "Percentual": "0,63%"
                                },
                                {
                                    "convenio": "Clínica Vida",
                                    "Total": "140931290272",
                                    "Percentual": "0,60%"
                                },
                                {
                                    "convenio": "Vida & Saúde",
                                    "Total": "140931290272",
                                    "Percentual": "0,60%"
                                },
                                {
                                    "convenio": "Saúde Prime",
                                    "Total": "123314878988",
                                    "Percentual": "0,52%"
                                },
                                {
                                    "convenio": "Planos de Vida",
                                    "Total": "88082056420",
                                    "Percentual": "0,37%"
                                },
                                {
                                    "convenio": "Vida Plena",
                                    "Total": "88082056420",
                                    "Percentual": "0,37%"
                                },
                                {
                                    "convenio": "Proteção Médica",
                                    "Total": "88082056420",
                                    "Percentual": "0,37%"
                                },
                                {
                                    "convenio": "Saúde Total",
                                    "Total": "79273850778",
                                    "Percentual": "0,33%"
                                },
                                {
                                    "convenio": "Saúde Premium",
                                    "Total": "79273850778",
                                    "Percentual": "0,33%"
                                },
                                {
                                    "convenio": "Previne Mais",
                                    "Total": "61657439494",
                                    "Percentual": "0,26%"
                                },
                                {
                                    "convenio": "Saúde Cuidado",
                                    "Total": "52849233852",
                                    "Percentual": "0,22%"
                                },
                                {
                                    "convenio": "Vida Plena Mais",
                                    "Total": "52849233852",
                                    "Percentual": "0,22%"
                                },
                                {
                                    "convenio": "Plano de Vida Completa",
                                    "Total": "44041028210",
                                    "Percentual": "0,19%"
                                },
                                {
                                    "convenio": "Saúde Suprema",
                                    "Total": "35232822568",
                                    "Percentual": "0,15%"
                                },
                                {
                                    "convenio": "Plano Saúde Total",
                                    "Total": "26424616926",
                                    "Percentual": "0,11%"
                                },
                                {
                                    "convenio": "Cuidado Total",
                                    "Total": "26424616926",
                                    "Percentual": "0,11%"
                                },
                                {
                                    "convenio": "HealthFirst",
                                    "Total": "26424616926",
                                    "Percentual": "0,11%"
                                },
                                {
                                    "convenio": "Cura&Conforto",
                                    "Total": "26424616926",
                                    "Percentual": "0,11%"
                                },
                                {
                                    "convenio": "Saúde Completa",
                                    "Total": "26424616926",
                                    "Percentual": "0,11%"
                                },
                                {
                                    "convenio": "Plano de Proteção",
                                    "Total": "17616411284",
                                    "Percentual": "0,07%"
                                },
                                {
                                    "convenio": "Saúde Ideal",
                                    "Total": "17616411284",
                                    "Percentual": "0,07%"
                                },
                                {
                                    "convenio": "Seguro Saúde",
                                    "Total": "17616411284",
                                    "Percentual": "0,07%"
                                },
                                {
                                    "convenio": "Plano Vital",
                                    "Total": "17616411284",
                                    "Percentual": "0,07%"
                                },
                                {
                                    "convenio": "Plano Integral",
                                    "Total": "17616411284",
                                    "Percentual": "0,07%"
                                },
                                {
                                    "convenio": "Plano Vitalício",
                                    "Total": "17616411284",
                                    "Percentual": "0,07%"
                                },
                                {
                                    "convenio": "MedHelp",
                                    "Total": "17616411284",
                                    "Percentual": "0,07%"
                                },
                                {
                                    "convenio": "Plena Saúde",
                                    "Total": "17616411284",
                                    "Percentual": "0,07%"
                                },
                                {
                                    "convenio": "Serenidade Saúde",
                                    "Total": "17616411284",
                                    "Percentual": "0,07%"
                                },
                                {
                                    "convenio": "Plano de Cuidados",
                                    "Total": "17616411284",
                                    "Percentual": "0,07%"
                                },
                                {
                                    "convenio": "Harmony Healthcare",
                                    "Total": "17616411284",
                                    "Percentual": "0,07%"
                                },
                                {
                                    "convenio": "Bem-Estar Total",
                                    "Total": "8808205642",
                                    "Percentual": "0,04%"
                                },
                                {
                                    "convenio": "Total Saúde",
                                    "Total": "8808205642",
                                    "Percentual": "0,04%"
                                },
                                {
                                    "convenio": "Seguro de Vida",
                                    "Total": "8808205642",
                                    "Percentual": "0,04%"
                                },
                                {
                                    "convenio": "Plano de Saúde",
                                    "Total": "8808205642",
                                    "Percentual": "0,04%"
                                },
                                {
                                    "convenio": "Vitality Health",
                                    "Total": "8808205642",
                                    "Percentual": "0,04%"
                                },
                                {
                                    "convenio": "CarePlus",
                                    "Total": "8808205642",
                                    "Percentual": "0,04%"
                                },
                                {
                                    "convenio": "Saúde Global",
                                    "Total": "8808205642",
                                    "Percentual": "0,04%"
                                },
                                {
                                    "convenio": "Proteção de Saúde",
                                    "Total": "8808205642",
                                    "Percentual": "0,04%"
                                },
                                {
                                    "convenio": "Seguro Médico",
                                    "Total": "8808205642",
                                    "Percentual": "0,04%"
                                },
                                {
                                    "convenio": "Seguro de Saúde",
                                    "Total": "8808205642",
                                    "Percentual": "0,04%"
                                },
                                {
                                    "convenio": "Saúde Garantida",
                                    "Total": "8808205642",
                                    "Percentual": "0,04%"
                                },
                                {
                                    "convenio": "Plano de Saúde Global",
                                    "Total": "8808205642",
                                    "Percentual": "0,04%"
                                }
                            ]
                        },
                        "text/html": [
                            "<table>",
                            "<tr><th>convenio</th><th>Total</th><th>Percentual</th></tr>",
                            "<tr><td>Plano Bem-Estar</td><td>4756431046680</td><td>20,08%</td></tr>",
                            "<tr><td>Plano Vida Nova</td><td>4606691550766</td><td>19,45%</td></tr>",
                            "<tr><td>Saúde+</td><td>3241419676256</td><td>13,69%</td></tr>",
                            "<tr><td>Vitalícia Saúde</td><td>3144529414194</td><td>13,28%</td></tr>",
                            "<tr><td>Saúde Premier</td><td>1981846269450</td><td>8,37%</td></tr>",
                            "<tr><td>BemSaúde</td><td>810354919064</td><td>3,42%</td></tr>",
                            "<tr><td>Integral Saúde</td><td>563725161088</td><td>2,38%</td></tr>",
                            "<tr><td>Viva Mais Saúde</td><td>563725161088</td><td>2,38%</td></tr>",
                            "<tr><td>Saúde Consciente</td><td>519684132878</td><td>2,19%</td></tr>",
                            "<tr><td>Saúde Fácil</td><td>510875927236</td><td>2,16%</td></tr>",
                            "<tr><td>Proteção Vital</td><td>431602076458</td><td>1,82%</td></tr>",
                            "<tr><td>Unicorp</td><td>317095403112</td><td>1,34%</td></tr>",
                            "<tr><td>Banco Saúde</td><td>220205141050</td><td>0,93%</td></tr>",
                            "<tr><td>Proteger+</td><td>193780524124</td><td>0,82%</td></tr>",
                            "<tr><td>Previna Saúde</td><td>167355907198</td><td>0,71%</td></tr>",
                            "<tr><td>Previna+</td><td>149739495914</td><td>0,63%</td></tr>",
                            "<tr><td>Clínica Vida</td><td>140931290272</td><td>0,60%</td></tr>",
                            "<tr><td>Vida &amp; Saúde</td><td>140931290272</td><td>0,60%</td></tr>",
                            "<tr><td>Saúde Prime</td><td>123314878988</td><td>0,52%</td></tr>",
                            "<tr><td>Planos de Vida</td><td>88082056420</td><td>0,37%</td></tr>",
                            "<tr><td>Vida Plena</td><td>88082056420</td><td>0,37%</td></tr>",
                            "<tr><td>Proteção Médica</td><td>88082056420</td><td>0,37%</td></tr>",
                            "<tr><td>Saúde Total</td><td>79273850778</td><td>0,33%</td></tr>",
                            "<tr><td>Saúde Premium</td><td>79273850778</td><td>0,33%</td></tr>",
                            "<tr><td>Previne Mais</td><td>61657439494</td><td>0,26%</td></tr>",
                            "<tr><td>Saúde Cuidado</td><td>52849233852</td><td>0,22%</td></tr>",
                            "<tr><td>Vida Plena Mais</td><td>52849233852</td><td>0,22%</td></tr>",
                            "<tr><td>Plano de Vida Completa</td><td>44041028210</td><td>0,19%</td></tr>",
                            "<tr><td>Saúde Suprema</td><td>35232822568</td><td>0,15%</td></tr>",
                            "<tr><td>Plano Saúde Total</td><td>26424616926</td><td>0,11%</td></tr>",
                            "<tr><td>Cuidado Total</td><td>26424616926</td><td>0,11%</td></tr>",
                            "<tr><td>HealthFirst</td><td>26424616926</td><td>0,11%</td></tr>",
                            "<tr><td>Cura&amp;Conforto</td><td>26424616926</td><td>0,11%</td></tr>",
                            "<tr><td>Saúde Completa</td><td>26424616926</td><td>0,11%</td></tr>",
                            "<tr><td>Plano de Proteção</td><td>17616411284</td><td>0,07%</td></tr>",
                            "<tr><td>Saúde Ideal</td><td>17616411284</td><td>0,07%</td></tr>",
                            "<tr><td>Seguro Saúde</td><td>17616411284</td><td>0,07%</td></tr>",
                            "<tr><td>Plano Vital</td><td>17616411284</td><td>0,07%</td></tr>",
                            "<tr><td>Plano Integral</td><td>17616411284</td><td>0,07%</td></tr>",
                            "<tr><td>Plano Vitalício</td><td>17616411284</td><td>0,07%</td></tr>",
                            "<tr><td>MedHelp</td><td>17616411284</td><td>0,07%</td></tr>",
                            "<tr><td>Plena Saúde</td><td>17616411284</td><td>0,07%</td></tr>",
                            "<tr><td>Serenidade Saúde</td><td>17616411284</td><td>0,07%</td></tr>",
                            "<tr><td>Plano de Cuidados</td><td>17616411284</td><td>0,07%</td></tr>",
                            "<tr><td>Harmony Healthcare</td><td>17616411284</td><td>0,07%</td></tr>",
                            "<tr><td>Bem-Estar Total</td><td>8808205642</td><td>0,04%</td></tr>",
                            "<tr><td>Total Saúde</td><td>8808205642</td><td>0,04%</td></tr>",
                            "<tr><td>Seguro de Vida</td><td>8808205642</td><td>0,04%</td></tr>",
                            "<tr><td>Plano de Saúde</td><td>8808205642</td><td>0,04%</td></tr>",
                            "<tr><td>Vitality Health</td><td>8808205642</td><td>0,04%</td></tr>",
                            "<tr><td>CarePlus</td><td>8808205642</td><td>0,04%</td></tr>",
                            "<tr><td>Saúde Global</td><td>8808205642</td><td>0,04%</td></tr>",
                            "<tr><td>Proteção de Saúde</td><td>8808205642</td><td>0,04%</td></tr>",
                            "<tr><td>Seguro Médico</td><td>8808205642</td><td>0,04%</td></tr>",
                            "<tr><td>Seguro de Saúde</td><td>8808205642</td><td>0,04%</td></tr>",
                            "<tr><td>Saúde Garantida</td><td>8808205642</td><td>0,04%</td></tr>",
                            "<tr><td>Plano de Saúde Global</td><td>8808205642</td><td>0,04%</td></tr>",
                            "</table>"
                        ]
                    }
                }
            ],
            "execution_count": 35
        },
        {
            "cell_type": "code",
            "source": [
                "-- Qual a taxa de mortalidade?\r\n",
                "SELECT tab_convenio.cod_convenio FROM tab_convenio"
            ],
            "metadata": {
                "language": "sql",
                "azdata_cell_guid": "9f6d82fe-ee6e-42f3-930e-33ff25bbf33d"
            },
            "outputs": [
                {
                    "output_type": "display_data",
                    "data": {
                        "text/html": "(57 rows affected)"
                    },
                    "metadata": {}
                },
                {
                    "output_type": "display_data",
                    "data": {
                        "text/html": "Total execution time: 00:00:00.022"
                    },
                    "metadata": {}
                },
                {
                    "output_type": "execute_result",
                    "metadata": {},
                    "execution_count": 17,
                    "data": {
                        "application/vnd.dataresource+json": {
                            "schema": {
                                "fields": [
                                    {
                                        "name": "cod_convenio"
                                    },
                                    {
                                        "name": "convenio"
                                    }
                                ]
                            },
                            "data": [
                                {
                                    "cod_convenio": "1",
                                    "convenio": "Saúde+"
                                },
                                {
                                    "cod_convenio": "2",
                                    "convenio": "Plano Bem-Estar"
                                },
                                {
                                    "cod_convenio": "3",
                                    "convenio": "Vitalícia Saúde"
                                },
                                {
                                    "cod_convenio": "4",
                                    "convenio": "Unicorp"
                                },
                                {
                                    "cod_convenio": "5",
                                    "convenio": "Vida Plena"
                                },
                                {
                                    "cod_convenio": "6",
                                    "convenio": "Saúde Fácil"
                                },
                                {
                                    "cod_convenio": "7",
                                    "convenio": "Previna Saúde"
                                },
                                {
                                    "cod_convenio": "8",
                                    "convenio": "Saúde Premier"
                                },
                                {
                                    "cod_convenio": "9",
                                    "convenio": "Serenidade Saúde"
                                },
                                {
                                    "cod_convenio": "10",
                                    "convenio": "Plano Vida Nova"
                                },
                                {
                                    "cod_convenio": "11",
                                    "convenio": "CarePlus"
                                },
                                {
                                    "cod_convenio": "12",
                                    "convenio": "BemSaúde"
                                },
                                {
                                    "cod_convenio": "13",
                                    "convenio": "Integral Saúde"
                                },
                                {
                                    "cod_convenio": "14",
                                    "convenio": "Saúde Ideal"
                                },
                                {
                                    "cod_convenio": "15",
                                    "convenio": "Cura&Conforto"
                                },
                                {
                                    "cod_convenio": "16",
                                    "convenio": "Previne Mais"
                                },
                                {
                                    "cod_convenio": "17",
                                    "convenio": "Total Saúde"
                                },
                                {
                                    "cod_convenio": "18",
                                    "convenio": "Proteção Vital"
                                },
                                {
                                    "cod_convenio": "19",
                                    "convenio": "Banco Saúde"
                                },
                                {
                                    "cod_convenio": "20",
                                    "convenio": "Vitality Health"
                                },
                                {
                                    "cod_convenio": "21",
                                    "convenio": "Saúde Consciente"
                                },
                                {
                                    "cod_convenio": "22",
                                    "convenio": "Harmony Healthcare"
                                },
                                {
                                    "cod_convenio": "23",
                                    "convenio": "Viva Mais Saúde"
                                },
                                {
                                    "cod_convenio": "24",
                                    "convenio": "Plena Saúde"
                                },
                                {
                                    "cod_convenio": "25",
                                    "convenio": "MedHelp"
                                },
                                {
                                    "cod_convenio": "26",
                                    "convenio": "Previna+"
                                },
                                {
                                    "cod_convenio": "27",
                                    "convenio": "HealthFirst"
                                },
                                {
                                    "cod_convenio": "28",
                                    "convenio": "Proteger+"
                                },
                                {
                                    "cod_convenio": "29",
                                    "convenio": "Saúde Prime"
                                },
                                {
                                    "cod_convenio": "30",
                                    "convenio": "Vida & Saúde"
                                },
                                {
                                    "cod_convenio": "31",
                                    "convenio": "Clínica Vida"
                                },
                                {
                                    "cod_convenio": "32",
                                    "convenio": "Bem-Estar Total"
                                },
                                {
                                    "cod_convenio": "33",
                                    "convenio": "Saúde Total"
                                },
                                {
                                    "cod_convenio": "34",
                                    "convenio": "Plano Vitalício"
                                },
                                {
                                    "cod_convenio": "35",
                                    "convenio": "Saúde Cuidado"
                                },
                                {
                                    "cod_convenio": "36",
                                    "convenio": "Planos de Vida"
                                },
                                {
                                    "cod_convenio": "37",
                                    "convenio": "Saúde Premium"
                                },
                                {
                                    "cod_convenio": "38",
                                    "convenio": "Saúde Suprema"
                                },
                                {
                                    "cod_convenio": "39",
                                    "convenio": "Proteção Médica"
                                },
                                {
                                    "cod_convenio": "40",
                                    "convenio": "Seguro Saúde"
                                },
                                {
                                    "cod_convenio": "41",
                                    "convenio": "Vida Plena Mais"
                                },
                                {
                                    "cod_convenio": "42",
                                    "convenio": "Plano de Cuidados"
                                },
                                {
                                    "cod_convenio": "43",
                                    "convenio": "Cuidado Total"
                                },
                                {
                                    "cod_convenio": "44",
                                    "convenio": "Plano Vital"
                                },
                                {
                                    "cod_convenio": "45",
                                    "convenio": "Seguro Médico"
                                },
                                {
                                    "cod_convenio": "46",
                                    "convenio": "Saúde Garantida"
                                },
                                {
                                    "cod_convenio": "47",
                                    "convenio": "Plano de Proteção"
                                },
                                {
                                    "cod_convenio": "48",
                                    "convenio": "Saúde Completa"
                                },
                                {
                                    "cod_convenio": "49",
                                    "convenio": "Plano Integral"
                                },
                                {
                                    "cod_convenio": "50",
                                    "convenio": "Plano de Saúde"
                                },
                                {
                                    "cod_convenio": "51",
                                    "convenio": "Seguro de Saúde"
                                },
                                {
                                    "cod_convenio": "52",
                                    "convenio": "Plano Saúde Total"
                                },
                                {
                                    "cod_convenio": "53",
                                    "convenio": "Saúde Global"
                                },
                                {
                                    "cod_convenio": "54",
                                    "convenio": "Proteção de Saúde"
                                },
                                {
                                    "cod_convenio": "55",
                                    "convenio": "Plano de Vida Completa"
                                },
                                {
                                    "cod_convenio": "56",
                                    "convenio": "Plano de Saúde Global"
                                },
                                {
                                    "cod_convenio": "57",
                                    "convenio": "Seguro de Vida"
                                }
                            ]
                        },
                        "text/html": [
                            "<table>",
                            "<tr><th>cod_convenio</th><th>convenio</th></tr>",
                            "<tr><td>1</td><td>Saúde+</td></tr>",
                            "<tr><td>2</td><td>Plano Bem-Estar</td></tr>",
                            "<tr><td>3</td><td>Vitalícia Saúde</td></tr>",
                            "<tr><td>4</td><td>Unicorp</td></tr>",
                            "<tr><td>5</td><td>Vida Plena</td></tr>",
                            "<tr><td>6</td><td>Saúde Fácil</td></tr>",
                            "<tr><td>7</td><td>Previna Saúde</td></tr>",
                            "<tr><td>8</td><td>Saúde Premier</td></tr>",
                            "<tr><td>9</td><td>Serenidade Saúde</td></tr>",
                            "<tr><td>10</td><td>Plano Vida Nova</td></tr>",
                            "<tr><td>11</td><td>CarePlus</td></tr>",
                            "<tr><td>12</td><td>BemSaúde</td></tr>",
                            "<tr><td>13</td><td>Integral Saúde</td></tr>",
                            "<tr><td>14</td><td>Saúde Ideal</td></tr>",
                            "<tr><td>15</td><td>Cura&amp;Conforto</td></tr>",
                            "<tr><td>16</td><td>Previne Mais</td></tr>",
                            "<tr><td>17</td><td>Total Saúde</td></tr>",
                            "<tr><td>18</td><td>Proteção Vital</td></tr>",
                            "<tr><td>19</td><td>Banco Saúde</td></tr>",
                            "<tr><td>20</td><td>Vitality Health</td></tr>",
                            "<tr><td>21</td><td>Saúde Consciente</td></tr>",
                            "<tr><td>22</td><td>Harmony Healthcare</td></tr>",
                            "<tr><td>23</td><td>Viva Mais Saúde</td></tr>",
                            "<tr><td>24</td><td>Plena Saúde</td></tr>",
                            "<tr><td>25</td><td>MedHelp</td></tr>",
                            "<tr><td>26</td><td>Previna+</td></tr>",
                            "<tr><td>27</td><td>HealthFirst</td></tr>",
                            "<tr><td>28</td><td>Proteger+</td></tr>",
                            "<tr><td>29</td><td>Saúde Prime</td></tr>",
                            "<tr><td>30</td><td>Vida &amp; Saúde</td></tr>",
                            "<tr><td>31</td><td>Clínica Vida</td></tr>",
                            "<tr><td>32</td><td>Bem-Estar Total</td></tr>",
                            "<tr><td>33</td><td>Saúde Total</td></tr>",
                            "<tr><td>34</td><td>Plano Vitalício</td></tr>",
                            "<tr><td>35</td><td>Saúde Cuidado</td></tr>",
                            "<tr><td>36</td><td>Planos de Vida</td></tr>",
                            "<tr><td>37</td><td>Saúde Premium</td></tr>",
                            "<tr><td>38</td><td>Saúde Suprema</td></tr>",
                            "<tr><td>39</td><td>Proteção Médica</td></tr>",
                            "<tr><td>40</td><td>Seguro Saúde</td></tr>",
                            "<tr><td>41</td><td>Vida Plena Mais</td></tr>",
                            "<tr><td>42</td><td>Plano de Cuidados</td></tr>",
                            "<tr><td>43</td><td>Cuidado Total</td></tr>",
                            "<tr><td>44</td><td>Plano Vital</td></tr>",
                            "<tr><td>45</td><td>Seguro Médico</td></tr>",
                            "<tr><td>46</td><td>Saúde Garantida</td></tr>",
                            "<tr><td>47</td><td>Plano de Proteção</td></tr>",
                            "<tr><td>48</td><td>Saúde Completa</td></tr>",
                            "<tr><td>49</td><td>Plano Integral</td></tr>",
                            "<tr><td>50</td><td>Plano de Saúde</td></tr>",
                            "<tr><td>51</td><td>Seguro de Saúde</td></tr>",
                            "<tr><td>52</td><td>Plano Saúde Total</td></tr>",
                            "<tr><td>53</td><td>Saúde Global</td></tr>",
                            "<tr><td>54</td><td>Proteção de Saúde</td></tr>",
                            "<tr><td>55</td><td>Plano de Vida Completa</td></tr>",
                            "<tr><td>56</td><td>Plano de Saúde Global</td></tr>",
                            "<tr><td>57</td><td>Seguro de Vida</td></tr>",
                            "</table>"
                        ]
                    }
                }
            ],
            "execution_count": 17
        },
        {
            "cell_type": "code",
            "source": [
                "-- Qual é o TMP (Tempo Médio de Permanência) dos pacientes?\r\n",
                ""
            ],
            "metadata": {
                "language": "sql",
                "azdata_cell_guid": "333b19e1-7e5f-4bc4-b4d8-b11045892af9"
            },
            "outputs": [],
            "execution_count": null
        },
        {
            "cell_type": "code",
            "source": [
                "-- Qual o número de Admissões?\r\n",
                ""
            ],
            "metadata": {
                "language": "sql",
                "azdata_cell_guid": "91148d0e-d5a3-4308-a968-9d51dc939d70"
            },
            "outputs": [],
            "execution_count": null
        },
        {
            "cell_type": "code",
            "source": [
                "-- Qual o número de Altas?"
            ],
            "metadata": {
                "language": "sql",
                "azdata_cell_guid": "08b2826d-6af4-4661-bfcc-d1fc9202ddbe"
            },
            "outputs": [],
            "execution_count": null
        },
        {
            "cell_type": "code",
            "source": [
                ""
            ],
            "metadata": {
                "language": "sql",
                "azdata_cell_guid": "2fbbd4b0-d21e-4466-8204-a7bc1b8ca27c"
            },
            "outputs": [],
            "execution_count": null
        },
        {
            "cell_type": "code",
            "source": [
                ""
            ],
            "metadata": {
                "language": "sql",
                "azdata_cell_guid": "e47b0143-be01-4e27-8fdb-3f0225c085da"
            },
            "outputs": [],
            "execution_count": null
        }
    ]
}